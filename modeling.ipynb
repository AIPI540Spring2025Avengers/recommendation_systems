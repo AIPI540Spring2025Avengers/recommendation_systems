{
 "cells": [
  {
   "cell_type": "code",
   "execution_count": null,
   "metadata": {},
   "outputs": [],
   "source": [
    "!pip install xgboost"
   ]
  },
  {
   "cell_type": "code",
   "execution_count": null,
   "metadata": {},
   "outputs": [],
   "source": [
    "# pandas\n",
    "import pandas as pd\n",
    "from pandas import Series,DataFrame\n",
    "import numpy as np\n",
    "\n",
    "import matplotlib.pyplot as plt\n",
    "import seaborn as sns\n",
    "sns.set_style('whitegrid')\n",
    "%matplotlib inline\n",
    "\n",
    "# machine learning\n",
    "from sklearn.neighbors import KNeighborsClassifier\n",
    "from sklearn.naive_bayes import GaussianNB\n",
    "import xgboost as xgb\n"
   ]
  },
  {
   "cell_type": "code",
   "execution_count": 7,
   "metadata": {},
   "outputs": [
    {
     "name": "stdout",
     "output_type": "stream",
     "text": [
      "<class 'pandas.core.frame.DataFrame'>\n",
      "RangeIndex: 10000 entries, 0 to 9999\n",
      "Data columns (total 24 columns):\n",
      " #   Column                     Non-Null Count  Dtype  \n",
      "---  ------                     --------------  -----  \n",
      " 0   date_time                  10000 non-null  object \n",
      " 1   site_name                  10000 non-null  int64  \n",
      " 2   posa_continent             10000 non-null  int64  \n",
      " 3   user_location_country      10000 non-null  int64  \n",
      " 4   user_location_region       10000 non-null  int64  \n",
      " 5   user_location_city         10000 non-null  int64  \n",
      " 6   orig_destination_distance  6271 non-null   float64\n",
      " 7   user_id                    10000 non-null  int64  \n",
      " 8   is_mobile                  10000 non-null  int64  \n",
      " 9   is_package                 10000 non-null  int64  \n",
      " 10  channel                    10000 non-null  int64  \n",
      " 11  srch_ci                    9993 non-null   object \n",
      " 12  srch_co                    9993 non-null   object \n",
      " 13  srch_adults_cnt            10000 non-null  int64  \n",
      " 14  srch_children_cnt          10000 non-null  int64  \n",
      " 15  srch_rm_cnt                10000 non-null  int64  \n",
      " 16  srch_destination_id        10000 non-null  int64  \n",
      " 17  srch_destination_type_id   10000 non-null  int64  \n",
      " 18  is_booking                 10000 non-null  int64  \n",
      " 19  cnt                        10000 non-null  int64  \n",
      " 20  hotel_continent            10000 non-null  int64  \n",
      " 21  hotel_country              10000 non-null  int64  \n",
      " 22  hotel_market               10000 non-null  int64  \n",
      " 23  hotel_cluster              10000 non-null  int64  \n",
      "dtypes: float64(1), int64(20), object(3)\n",
      "memory usage: 1.8+ MB\n",
      "----------------------------\n",
      "<class 'pandas.core.frame.DataFrame'>\n",
      "RangeIndex: 10000 entries, 0 to 9999\n",
      "Data columns (total 22 columns):\n",
      " #   Column                     Non-Null Count  Dtype  \n",
      "---  ------                     --------------  -----  \n",
      " 0   id                         10000 non-null  int64  \n",
      " 1   date_time                  10000 non-null  object \n",
      " 2   site_name                  10000 non-null  int64  \n",
      " 3   posa_continent             10000 non-null  int64  \n",
      " 4   user_location_country      10000 non-null  int64  \n",
      " 5   user_location_region       10000 non-null  int64  \n",
      " 6   user_location_city         10000 non-null  int64  \n",
      " 7   orig_destination_distance  5893 non-null   float64\n",
      " 8   user_id                    10000 non-null  int64  \n",
      " 9   is_mobile                  10000 non-null  int64  \n",
      " 10  is_package                 10000 non-null  int64  \n",
      " 11  channel                    10000 non-null  int64  \n",
      " 12  srch_ci                    10000 non-null  object \n",
      " 13  srch_co                    10000 non-null  object \n",
      " 14  srch_adults_cnt            10000 non-null  int64  \n",
      " 15  srch_children_cnt          10000 non-null  int64  \n",
      " 16  srch_rm_cnt                10000 non-null  int64  \n",
      " 17  srch_destination_id        10000 non-null  int64  \n",
      " 18  srch_destination_type_id   10000 non-null  int64  \n",
      " 19  hotel_continent            10000 non-null  int64  \n",
      " 20  hotel_country              10000 non-null  int64  \n",
      " 21  hotel_market               10000 non-null  int64  \n",
      "dtypes: float64(1), int64(18), object(3)\n",
      "memory usage: 1.7+ MB\n"
     ]
    },
    {
     "data": {
      "text/html": [
       "<div>\n",
       "<style scoped>\n",
       "    .dataframe tbody tr th:only-of-type {\n",
       "        vertical-align: middle;\n",
       "    }\n",
       "\n",
       "    .dataframe tbody tr th {\n",
       "        vertical-align: top;\n",
       "    }\n",
       "\n",
       "    .dataframe thead th {\n",
       "        text-align: right;\n",
       "    }\n",
       "</style>\n",
       "<table border=\"1\" class=\"dataframe\">\n",
       "  <thead>\n",
       "    <tr style=\"text-align: right;\">\n",
       "      <th></th>\n",
       "      <th>date_time</th>\n",
       "      <th>site_name</th>\n",
       "      <th>posa_continent</th>\n",
       "      <th>user_location_country</th>\n",
       "      <th>user_location_region</th>\n",
       "      <th>user_location_city</th>\n",
       "      <th>orig_destination_distance</th>\n",
       "      <th>user_id</th>\n",
       "      <th>is_mobile</th>\n",
       "      <th>is_package</th>\n",
       "      <th>...</th>\n",
       "      <th>srch_children_cnt</th>\n",
       "      <th>srch_rm_cnt</th>\n",
       "      <th>srch_destination_id</th>\n",
       "      <th>srch_destination_type_id</th>\n",
       "      <th>is_booking</th>\n",
       "      <th>cnt</th>\n",
       "      <th>hotel_continent</th>\n",
       "      <th>hotel_country</th>\n",
       "      <th>hotel_market</th>\n",
       "      <th>hotel_cluster</th>\n",
       "    </tr>\n",
       "  </thead>\n",
       "  <tbody>\n",
       "    <tr>\n",
       "      <th>0</th>\n",
       "      <td>2014-08-11 07:46:59</td>\n",
       "      <td>2</td>\n",
       "      <td>3</td>\n",
       "      <td>66</td>\n",
       "      <td>348</td>\n",
       "      <td>48862</td>\n",
       "      <td>2234.2641</td>\n",
       "      <td>12</td>\n",
       "      <td>0</td>\n",
       "      <td>1</td>\n",
       "      <td>...</td>\n",
       "      <td>0</td>\n",
       "      <td>1</td>\n",
       "      <td>8250</td>\n",
       "      <td>1</td>\n",
       "      <td>0</td>\n",
       "      <td>3</td>\n",
       "      <td>2</td>\n",
       "      <td>50</td>\n",
       "      <td>628</td>\n",
       "      <td>1</td>\n",
       "    </tr>\n",
       "    <tr>\n",
       "      <th>1</th>\n",
       "      <td>2014-08-11 08:22:12</td>\n",
       "      <td>2</td>\n",
       "      <td>3</td>\n",
       "      <td>66</td>\n",
       "      <td>348</td>\n",
       "      <td>48862</td>\n",
       "      <td>2234.2641</td>\n",
       "      <td>12</td>\n",
       "      <td>0</td>\n",
       "      <td>1</td>\n",
       "      <td>...</td>\n",
       "      <td>0</td>\n",
       "      <td>1</td>\n",
       "      <td>8250</td>\n",
       "      <td>1</td>\n",
       "      <td>1</td>\n",
       "      <td>1</td>\n",
       "      <td>2</td>\n",
       "      <td>50</td>\n",
       "      <td>628</td>\n",
       "      <td>1</td>\n",
       "    </tr>\n",
       "    <tr>\n",
       "      <th>2</th>\n",
       "      <td>2014-08-11 08:24:33</td>\n",
       "      <td>2</td>\n",
       "      <td>3</td>\n",
       "      <td>66</td>\n",
       "      <td>348</td>\n",
       "      <td>48862</td>\n",
       "      <td>2234.2641</td>\n",
       "      <td>12</td>\n",
       "      <td>0</td>\n",
       "      <td>0</td>\n",
       "      <td>...</td>\n",
       "      <td>0</td>\n",
       "      <td>1</td>\n",
       "      <td>8250</td>\n",
       "      <td>1</td>\n",
       "      <td>0</td>\n",
       "      <td>1</td>\n",
       "      <td>2</td>\n",
       "      <td>50</td>\n",
       "      <td>628</td>\n",
       "      <td>1</td>\n",
       "    </tr>\n",
       "    <tr>\n",
       "      <th>3</th>\n",
       "      <td>2014-08-09 18:05:16</td>\n",
       "      <td>2</td>\n",
       "      <td>3</td>\n",
       "      <td>66</td>\n",
       "      <td>442</td>\n",
       "      <td>35390</td>\n",
       "      <td>913.1932</td>\n",
       "      <td>93</td>\n",
       "      <td>0</td>\n",
       "      <td>0</td>\n",
       "      <td>...</td>\n",
       "      <td>0</td>\n",
       "      <td>1</td>\n",
       "      <td>14984</td>\n",
       "      <td>1</td>\n",
       "      <td>0</td>\n",
       "      <td>1</td>\n",
       "      <td>2</td>\n",
       "      <td>50</td>\n",
       "      <td>1457</td>\n",
       "      <td>80</td>\n",
       "    </tr>\n",
       "    <tr>\n",
       "      <th>4</th>\n",
       "      <td>2014-08-09 18:08:18</td>\n",
       "      <td>2</td>\n",
       "      <td>3</td>\n",
       "      <td>66</td>\n",
       "      <td>442</td>\n",
       "      <td>35390</td>\n",
       "      <td>913.6259</td>\n",
       "      <td>93</td>\n",
       "      <td>0</td>\n",
       "      <td>0</td>\n",
       "      <td>...</td>\n",
       "      <td>0</td>\n",
       "      <td>1</td>\n",
       "      <td>14984</td>\n",
       "      <td>1</td>\n",
       "      <td>0</td>\n",
       "      <td>1</td>\n",
       "      <td>2</td>\n",
       "      <td>50</td>\n",
       "      <td>1457</td>\n",
       "      <td>21</td>\n",
       "    </tr>\n",
       "  </tbody>\n",
       "</table>\n",
       "<p>5 rows × 24 columns</p>\n",
       "</div>"
      ],
      "text/plain": [
       "             date_time  site_name  posa_continent  user_location_country  \\\n",
       "0  2014-08-11 07:46:59          2               3                     66   \n",
       "1  2014-08-11 08:22:12          2               3                     66   \n",
       "2  2014-08-11 08:24:33          2               3                     66   \n",
       "3  2014-08-09 18:05:16          2               3                     66   \n",
       "4  2014-08-09 18:08:18          2               3                     66   \n",
       "\n",
       "   user_location_region  user_location_city  orig_destination_distance  \\\n",
       "0                   348               48862                  2234.2641   \n",
       "1                   348               48862                  2234.2641   \n",
       "2                   348               48862                  2234.2641   \n",
       "3                   442               35390                   913.1932   \n",
       "4                   442               35390                   913.6259   \n",
       "\n",
       "   user_id  is_mobile  is_package  ...  srch_children_cnt srch_rm_cnt  \\\n",
       "0       12          0           1  ...                  0           1   \n",
       "1       12          0           1  ...                  0           1   \n",
       "2       12          0           0  ...                  0           1   \n",
       "3       93          0           0  ...                  0           1   \n",
       "4       93          0           0  ...                  0           1   \n",
       "\n",
       "  srch_destination_id  srch_destination_type_id  is_booking  cnt  \\\n",
       "0                8250                         1           0    3   \n",
       "1                8250                         1           1    1   \n",
       "2                8250                         1           0    1   \n",
       "3               14984                         1           0    1   \n",
       "4               14984                         1           0    1   \n",
       "\n",
       "   hotel_continent  hotel_country  hotel_market  hotel_cluster  \n",
       "0                2             50           628              1  \n",
       "1                2             50           628              1  \n",
       "2                2             50           628              1  \n",
       "3                2             50          1457             80  \n",
       "4                2             50          1457             21  \n",
       "\n",
       "[5 rows x 24 columns]"
      ]
     },
     "execution_count": 7,
     "metadata": {},
     "output_type": "execute_result"
    }
   ],
   "source": [
    "# get expedia & test csv files as a DataFrame\n",
    "train_df = pd.read_csv('./train.csv', nrows=10000)\n",
    "test_df    = pd.read_csv('./test.csv', nrows=10000)\n",
    "# destination = pd.read_csv('../input/destinations.csv', nrows=100000)\n",
    "\n",
    "train_df.info()\n",
    "print(\"----------------------------\")\n",
    "test_df.info()\n",
    "\n",
    "# preview the data\n",
    "train_df.head()"
   ]
  },
  {
   "cell_type": "code",
   "execution_count": 12,
   "metadata": {},
   "outputs": [],
   "source": [
    "# Function to convert date object into relevant attributes\n",
    "def convert_date_into_days(df):\n",
    "    df['srch_ci'] = pd.to_datetime(df['srch_ci'])\n",
    "    df['srch_co'] = pd.to_datetime(df['srch_co'])\n",
    "    df['date_time'] = pd.to_datetime(df['date_time'])\n",
    "    \n",
    "    df['stay_dur'] = (df['srch_co'] - df['srch_ci']).astype('timedelta64[ns]')\n",
    "    df['no_of_days_bet_booking'] = (df['srch_ci'] - df['date_time']).astype('timedelta64[ns]')\n",
    "    \n",
    "    # Check-in Month, Year, Day\n",
    "    df['Cin_day'] = df[\"srch_ci\"].apply(lambda x: x.day)\n",
    "    df['Cin_month'] = df[\"srch_ci\"].apply(lambda x: x.month)\n",
    "    df['Cin_year'] = df[\"srch_ci\"].apply(lambda x: x.year)"
   ]
  },
  {
   "cell_type": "code",
   "execution_count": 13,
   "metadata": {},
   "outputs": [],
   "source": [
    "convert_date_into_days(train_df)\n",
    "convert_date_into_days(test_df)"
   ]
  },
  {
   "cell_type": "code",
   "execution_count": 14,
   "metadata": {},
   "outputs": [
    {
     "name": "stderr",
     "output_type": "stream",
     "text": [
      "/var/folders/rt/0kf7v29569z7rctzmpst_dsh0000gn/T/ipykernel_48653/4049502888.py:15: FutureWarning: A value is trying to be set on a copy of a DataFrame or Series through chained assignment using an inplace method.\n",
      "The behavior will change in pandas 3.0. This inplace method will never work because the intermediate object on which we are setting values always behaves as a copy.\n",
      "\n",
      "For example, when doing 'df[col].method(value, inplace=True)', try using 'df.method({col: value}, inplace=True)' or df[col] = df[col].method(value) instead, to perform the operation inplace on the original object.\n",
      "\n",
      "\n",
      "  train_df['orig_destination_distance'].fillna(train_df['orig_destination_distance'].mean(), inplace=True)\n"
     ]
    }
   ],
   "source": [
    "# Check the percentage of Nan in dataset\n",
    "total = train_df.isnull().sum().sort_values(ascending=False)\n",
    "percent = (train_df.isnull().sum()/train_df['hotel_cluster'].count()).sort_values(ascending=False)\n",
    "missing_data = pd.concat([total, percent], axis=1, keys=['Total', 'Percent'])\n",
    "missing_data\n",
    "\n",
    "# Fill nan with the day which has max occurence\n",
    "train_df['Cin_day'] = train_df['Cin_day'].fillna(26.0)\n",
    "train_df['Cin_month'] = train_df['Cin_month'].fillna(8.0)\n",
    "train_df['Cin_year'] = train_df['Cin_year'].fillna(2014.0)\n",
    "train_df['stay_dur'] = train_df['stay_dur'].fillna(1.0)\n",
    "train_df['no_of_days_bet_booking'] = train_df['no_of_days_bet_booking'].fillna(0.0)\n",
    "\n",
    "# Fill average values in place for nan, fill with mean\n",
    "train_df['orig_destination_distance'].fillna(train_df['orig_destination_distance'].mean(), inplace=True)"
   ]
  },
  {
   "cell_type": "code",
   "execution_count": 16,
   "metadata": {},
   "outputs": [],
   "source": [
    "def understand_df_compact(df):\n",
    "    # Dimensions of dataset\n",
    "    print(\"———————————————————————————————————————————————————————————\")\n",
    "    print(\"Dimension of the dataset is\", df.shape, \"\\n\")\n",
    "\n",
    "    # Summary of dataset\n",
    "    print(\"———————————————————————————————————————————————————————————\")\n",
    "    print(\"Summary of the dataset is \\n\", df.describe(), \"\\n\")\n",
    "\n",
    "    print(\"———————————————————————————————————————————————————————————\")\n",
    "    print(\"Number of duplicates:\")\n",
    "    print(df.duplicated().sum())\n",
    "\n",
    "    # Stats of dataset\n",
    "    stats = []\n",
    "\n",
    "    for col in df.columns:\n",
    "        stats.append((col, df[col].nunique(), df[col].isnull().sum() * 100 / df.shape[0], df[col].dtype))\n",
    "\n",
    "    stats_df = pd.DataFrame(stats, columns=['Feature', 'Unique_values', 'Percentage of missing values', 'Type'])\n",
    "    print(\"———————————————————————————————————————————————————————————\")\n",
    "\n",
    "    print(f\"Statistics of the dataset are \\n {stats_df.sort_values('Percentage of missing values', ascending=False)}\\n\\n\")"
   ]
  },
  {
   "cell_type": "code",
   "execution_count": 17,
   "metadata": {},
   "outputs": [
    {
     "name": "stdout",
     "output_type": "stream",
     "text": [
      "———————————————————————————————————————————————————————————\n",
      "Dimension of the dataset is (10000, 29) \n",
      "\n",
      "———————————————————————————————————————————————————————————\n",
      "Summary of the dataset is \n",
      "                            date_time     site_name  posa_continent  \\\n",
      "count                          10000  10000.000000    10000.000000   \n",
      "mean   2014-04-28 03:17:20.918200064      8.261400        2.744400   \n",
      "min              2013-01-07 10:17:08      2.000000        0.000000   \n",
      "25%    2014-01-09 10:53:37.249999872      2.000000        3.000000   \n",
      "50%       2014-06-29 00:56:17.500000      2.000000        3.000000   \n",
      "75%    2014-09-24 20:15:57.249999872     11.000000        3.000000   \n",
      "max              2014-12-31 22:57:00     47.000000        4.000000   \n",
      "std                              NaN     10.352004        0.590511   \n",
      "\n",
      "       user_location_country  user_location_region  user_location_city  \\\n",
      "count           10000.000000          10000.000000        10000.000000   \n",
      "mean               85.711700            272.578700        26941.592000   \n",
      "min                 0.000000              0.000000            3.000000   \n",
      "25%                66.000000            172.000000         9876.000000   \n",
      "50%                66.000000            258.000000        25954.000000   \n",
      "75%                69.000000            354.000000        43175.000000   \n",
      "max               239.000000           1003.000000        56451.000000   \n",
      "std                61.545901            178.451546        17472.051101   \n",
      "\n",
      "       orig_destination_distance       user_id     is_mobile    is_package  \\\n",
      "count               10000.000000  10000.000000  10000.000000  10000.000000   \n",
      "mean                 1833.809641  29121.770900      0.206600      0.220100   \n",
      "min                     0.065100     12.000000      0.000000      0.000000   \n",
      "25%                   770.761200  12950.000000      0.000000      0.000000   \n",
      "50%                  1833.809641  30977.000000      0.000000      0.000000   \n",
      "75%                  1833.809641  44663.000000      0.000000      0.000000   \n",
      "max                 11301.871400  54404.000000      1.000000      1.000000   \n",
      "std                  1606.128588  17115.773996      0.404886      0.414335   \n",
      "\n",
      "       ...  srch_destination_type_id    is_booking           cnt  \\\n",
      "count  ...              10000.000000  10000.000000  10000.000000   \n",
      "mean   ...                  2.641100      0.077700      1.456100   \n",
      "min    ...                  1.000000      0.000000      1.000000   \n",
      "25%    ...                  1.000000      0.000000      1.000000   \n",
      "50%    ...                  1.000000      0.000000      1.000000   \n",
      "75%    ...                  5.000000      0.000000      1.000000   \n",
      "max    ...                  8.000000      1.000000     23.000000   \n",
      "std    ...                  2.203446      0.267712      1.167565   \n",
      "\n",
      "       hotel_continent  hotel_country  hotel_market  hotel_cluster  \\\n",
      "count     10000.000000   10000.000000  10000.000000   10000.000000   \n",
      "mean          3.149200      80.198000    575.825700      49.120100   \n",
      "min           0.000000       0.000000      0.000000       0.000000   \n",
      "25%           2.000000      50.000000    142.000000      25.000000   \n",
      "50%           2.000000      50.000000    544.000000      48.000000   \n",
      "75%           4.000000     105.000000    700.000000      73.000000   \n",
      "max           6.000000     208.000000   2103.000000      99.000000   \n",
      "std           1.539213      55.267289    494.452768      28.705492   \n",
      "\n",
      "            Cin_day     Cin_month      Cin_year  \n",
      "count  10000.000000  10000.000000  10000.000000  \n",
      "mean      15.748700      7.065100   2013.910000  \n",
      "min        1.000000      1.000000   2013.000000  \n",
      "25%        8.000000      4.000000   2014.000000  \n",
      "50%       16.000000      8.000000   2014.000000  \n",
      "75%       23.000000     10.000000   2014.000000  \n",
      "max       31.000000     12.000000   2015.000000  \n",
      "std        9.013538      3.411045      0.575615  \n",
      "\n",
      "[8 rows x 27 columns] \n",
      "\n",
      "———————————————————————————————————————————————————————————\n",
      "Number of duplicates:\n",
      "0\n",
      "———————————————————————————————————————————————————————————\n",
      "Statistics of the dataset are \n",
      "                       Feature  Unique_values  Percentage of missing values  \\\n",
      "11                    srch_ci            792                          0.07   \n",
      "12                    srch_co            791                          0.07   \n",
      "0                   date_time           9994                          0.00   \n",
      "16        srch_destination_id           1144                          0.00   \n",
      "27                  Cin_month             12                          0.00   \n",
      "26                    Cin_day             31                          0.00   \n",
      "25     no_of_days_bet_booking           9978                          0.00   \n",
      "24                   stay_dur             26                          0.00   \n",
      "23              hotel_cluster            100                          0.00   \n",
      "22               hotel_market            617                          0.00   \n",
      "21              hotel_country             94                          0.00   \n",
      "20            hotel_continent              6                          0.00   \n",
      "19                        cnt             19                          0.00   \n",
      "18                 is_booking              2                          0.00   \n",
      "17   srch_destination_type_id              7                          0.00   \n",
      "14          srch_children_cnt              9                          0.00   \n",
      "15                srch_rm_cnt              9                          0.00   \n",
      "1                   site_name             21                          0.00   \n",
      "13            srch_adults_cnt             10                          0.00   \n",
      "10                    channel              9                          0.00   \n",
      "9                  is_package              2                          0.00   \n",
      "8                   is_mobile              2                          0.00   \n",
      "7                     user_id            339                          0.00   \n",
      "6   orig_destination_distance           4279                          0.00   \n",
      "5          user_location_city            655                          0.00   \n",
      "4        user_location_region            150                          0.00   \n",
      "3       user_location_country             51                          0.00   \n",
      "2              posa_continent              5                          0.00   \n",
      "28                   Cin_year              3                          0.00   \n",
      "\n",
      "              Type  \n",
      "11  datetime64[ns]  \n",
      "12  datetime64[ns]  \n",
      "0   datetime64[ns]  \n",
      "16           int64  \n",
      "27         float64  \n",
      "26         float64  \n",
      "25          object  \n",
      "24          object  \n",
      "23           int64  \n",
      "22           int64  \n",
      "21           int64  \n",
      "20           int64  \n",
      "19           int64  \n",
      "18           int64  \n",
      "17           int64  \n",
      "14           int64  \n",
      "15           int64  \n",
      "1            int64  \n",
      "13           int64  \n",
      "10           int64  \n",
      "9            int64  \n",
      "8            int64  \n",
      "7            int64  \n",
      "6          float64  \n",
      "5            int64  \n",
      "4            int64  \n",
      "3            int64  \n",
      "2            int64  \n",
      "28         float64  \n",
      "\n",
      "\n"
     ]
    }
   ],
   "source": [
    "understand_df_compact(train_df)"
   ]
  },
  {
   "cell_type": "code",
   "execution_count": 20,
   "metadata": {},
   "outputs": [
    {
     "data": {
      "text/plain": [
       "date_time                    0\n",
       "site_name                    0\n",
       "posa_continent               0\n",
       "user_location_country        0\n",
       "user_location_region         0\n",
       "user_location_city           0\n",
       "orig_destination_distance    0\n",
       "user_id                      0\n",
       "is_mobile                    0\n",
       "is_package                   0\n",
       "channel                      0\n",
       "srch_ci                      7\n",
       "srch_co                      7\n",
       "srch_adults_cnt              0\n",
       "srch_children_cnt            0\n",
       "srch_rm_cnt                  0\n",
       "srch_destination_id          0\n",
       "srch_destination_type_id     0\n",
       "is_booking                   0\n",
       "cnt                          0\n",
       "hotel_continent              0\n",
       "hotel_country                0\n",
       "hotel_market                 0\n",
       "hotel_cluster                0\n",
       "stay_dur                     0\n",
       "no_of_days_bet_booking       0\n",
       "Cin_day                      0\n",
       "Cin_month                    0\n",
       "Cin_year                     0\n",
       "dtype: int64"
      ]
     },
     "execution_count": 20,
     "metadata": {},
     "output_type": "execute_result"
    }
   ],
   "source": [
    "train_df.isnull().sum()"
   ]
  },
  {
   "cell_type": "code",
   "execution_count": 21,
   "metadata": {},
   "outputs": [
    {
     "name": "stderr",
     "output_type": "stream",
     "text": [
      "/var/folders/rt/0kf7v29569z7rctzmpst_dsh0000gn/T/ipykernel_48653/1538709511.py:2: FutureWarning: A value is trying to be set on a copy of a DataFrame or Series through chained assignment using an inplace method.\n",
      "The behavior will change in pandas 3.0. This inplace method will never work because the intermediate object on which we are setting values always behaves as a copy.\n",
      "\n",
      "For example, when doing 'df[col].method(value, inplace=True)', try using 'df.method({col: value}, inplace=True)' or df[col] = df[col].method(value) instead, to perform the operation inplace on the original object.\n",
      "\n",
      "\n",
      "  train_df[\"srch_co\"].fillna(train_df[\"srch_co\"].mean(), inplace=True)\n"
     ]
    }
   ],
   "source": [
    "train_df[\"srch_ci\"].fillna(train_df[\"srch_ci\"].mean(), inplace=True)\n",
    "train_df[\"srch_co\"].fillna(train_df[\"srch_co\"].mean(), inplace=True)"
   ]
  },
  {
   "cell_type": "markdown",
   "metadata": {},
   "source": [
    "Outliers"
   ]
  },
  {
   "cell_type": "code",
   "execution_count": 22,
   "metadata": {},
   "outputs": [],
   "source": [
    "def winsorize_outliers(df):\n",
    "    \"\"\"\n",
    "    Adjusts outliers in the DataFrame using the winsorizing method based on the IQR.\n",
    "\n",
    "    Args:\n",
    "    df (pd.DataFrame): DataFrame containing numerical data.\n",
    "\n",
    "    Returns:\n",
    "    pd.DataFrame: DataFrame with outliers adjusted.\n",
    "    \"\"\"\n",
    "    # Iterate through each column in the DataFrame\n",
    "    for column in df.select_dtypes(include=[np.number]).columns:\n",
    "        # Calculate Q1 and Q3\n",
    "        Q1 = df[column].quantile(0.25)\n",
    "        Q3 = df[column].quantile(0.75)\n",
    "        # Calculate Interquartile Range (IQR)\n",
    "        IQR = Q3 - Q1\n",
    "\n",
    "        # Define bounds for outliers\n",
    "        lower_bound = Q1 - 1.5 * IQR\n",
    "        upper_bound = Q3 + 1.5 * IQR\n",
    "\n",
    "        # Winsorizing outliers\n",
    "        df.loc[:,column] = df[column].clip(lower=lower_bound, upper=upper_bound)\n",
    "\n",
    "    return df"
   ]
  },
  {
   "cell_type": "code",
   "execution_count": 23,
   "metadata": {},
   "outputs": [
    {
     "name": "stderr",
     "output_type": "stream",
     "text": [
      "/var/folders/rt/0kf7v29569z7rctzmpst_dsh0000gn/T/ipykernel_48653/1735016722.py:24: FutureWarning: Setting an item of incompatible dtype is deprecated and will raise in a future error of pandas. Value '[2. 2. 2. ... 2. 2. 2.]' has dtype incompatible with int64, please explicitly cast to a compatible dtype first.\n",
      "  df.loc[:,column] = df[column].clip(lower=lower_bound, upper=upper_bound)\n",
      "/var/folders/rt/0kf7v29569z7rctzmpst_dsh0000gn/T/ipykernel_48653/1735016722.py:24: FutureWarning: Setting an item of incompatible dtype is deprecated and will raise in a future error of pandas. Value '[66. 66. 66. ... 66. 66. 66.]' has dtype incompatible with int64, please explicitly cast to a compatible dtype first.\n",
      "  df.loc[:,column] = df[column].clip(lower=lower_bound, upper=upper_bound)\n",
      "/var/folders/rt/0kf7v29569z7rctzmpst_dsh0000gn/T/ipykernel_48653/1735016722.py:24: FutureWarning: Setting an item of incompatible dtype is deprecated and will raise in a future error of pandas. Value '[50. 50. 50. ... 50. 50. 50.]' has dtype incompatible with int64, please explicitly cast to a compatible dtype first.\n",
      "  df.loc[:,column] = df[column].clip(lower=lower_bound, upper=upper_bound)\n",
      "/var/folders/rt/0kf7v29569z7rctzmpst_dsh0000gn/T/ipykernel_48653/1735016722.py:24: FutureWarning: Setting an item of incompatible dtype is deprecated and will raise in a future error of pandas. Value '[3. 3. 3. ... 2. 2. 1.]' has dtype incompatible with int64, please explicitly cast to a compatible dtype first.\n",
      "  df.loc[:,column] = df[column].clip(lower=lower_bound, upper=upper_bound)\n",
      "/var/folders/rt/0kf7v29569z7rctzmpst_dsh0000gn/T/ipykernel_48653/1735016722.py:24: FutureWarning: Setting an item of incompatible dtype is deprecated and will raise in a future error of pandas. Value '[66.  66.  66.  ... 73.5 73.5 61.5]' has dtype incompatible with int64, please explicitly cast to a compatible dtype first.\n",
      "  df.loc[:,column] = df[column].clip(lower=lower_bound, upper=upper_bound)\n",
      "/var/folders/rt/0kf7v29569z7rctzmpst_dsh0000gn/T/ipykernel_48653/1735016722.py:24: FutureWarning: Setting an item of incompatible dtype is deprecated and will raise in a future error of pandas. Value '[174. 174. 142. ...   0.   0. 395.]' has dtype incompatible with int64, please explicitly cast to a compatible dtype first.\n",
      "  df.loc[:,column] = df[column].clip(lower=lower_bound, upper=upper_bound)\n",
      "/var/folders/rt/0kf7v29569z7rctzmpst_dsh0000gn/T/ipykernel_48653/1735016722.py:24: FutureWarning: Setting an item of incompatible dtype is deprecated and will raise in a future error of pandas. Value '[2.  2.  3.5 ... 3.5 2.  2. ]' has dtype incompatible with int64, please explicitly cast to a compatible dtype first.\n",
      "  df.loc[:,column] = df[column].clip(lower=lower_bound, upper=upper_bound)\n",
      "/var/folders/rt/0kf7v29569z7rctzmpst_dsh0000gn/T/ipykernel_48653/1735016722.py:24: FutureWarning: Setting an item of incompatible dtype is deprecated and will raise in a future error of pandas. Value '[  27. 1540.  699. ...  807.   33.    4.]' has dtype incompatible with int64, please explicitly cast to a compatible dtype first.\n",
      "  df.loc[:,column] = df[column].clip(lower=lower_bound, upper=upper_bound)\n"
     ]
    }
   ],
   "source": [
    "train_df = winsorize_outliers(train_df)\n",
    "test_df = winsorize_outliers(test_df)"
   ]
  },
  {
   "cell_type": "code",
   "execution_count": 24,
   "metadata": {},
   "outputs": [
    {
     "data": {
      "text/plain": [
       "Index(['date_time', 'site_name', 'posa_continent', 'user_location_country',\n",
       "       'user_location_region', 'user_location_city',\n",
       "       'orig_destination_distance', 'user_id', 'is_mobile', 'is_package',\n",
       "       'channel', 'srch_ci', 'srch_co', 'srch_adults_cnt', 'srch_children_cnt',\n",
       "       'srch_rm_cnt', 'srch_destination_id', 'srch_destination_type_id',\n",
       "       'is_booking', 'cnt', 'hotel_continent', 'hotel_country', 'hotel_market',\n",
       "       'hotel_cluster', 'stay_dur', 'no_of_days_bet_booking', 'Cin_day',\n",
       "       'Cin_month', 'Cin_year'],\n",
       "      dtype='object')"
      ]
     },
     "execution_count": 24,
     "metadata": {},
     "output_type": "execute_result"
    }
   ],
   "source": [
    "train_df.columns"
   ]
  },
  {
   "cell_type": "code",
   "execution_count": 60,
   "metadata": {},
   "outputs": [],
   "source": [
    "from sklearn.model_selection import StratifiedKFold\n",
    "from sklearn.metrics import classification_report, confusion_matrix\n",
    "from xgboost import XGBClassifier\n",
    "import numpy as np\n",
    "import matplotlib.pyplot as plt\n",
    "import seaborn as sns\n",
    "\n",
    "# Define MAP@k metric\n",
    "def mapk(actual, predicted, k=5):\n",
    "    \"\"\"\n",
    "    Computes the Mean Average Precision at k (MAP@k).\n",
    "    :param actual: List of true labels.\n",
    "    :param predicted: List of predicted labels (ranked by probability).\n",
    "    :param k: Number of top predictions to consider.\n",
    "    :return: MAP@k score.\n",
    "    \"\"\"\n",
    "    def apk(actual, predicted, k):\n",
    "        if len(predicted) > k:\n",
    "            predicted = predicted[:k]\n",
    "        score = 0.0\n",
    "        num_hits = 0.0\n",
    "        for i, p in enumerate(predicted):\n",
    "            if p in actual and p not in predicted[:i]:\n",
    "                num_hits += 1.0\n",
    "                score += num_hits / (i + 1.0)\n",
    "        return score / min(len(actual), k)\n",
    "\n",
    "    return np.mean([apk([a], p, k) for a, p in zip(actual, predicted)])\n",
    "\n",
    "\n",
    "def xgboost_map_classification(data, target_col='hotel_cluster', features=None, k_values=[5], n_splits=5):\n",
    "    \"\"\"\n",
    "    Trains an XGBoost model for multiclass classification using 5-fold cross-validation\n",
    "    and evaluates it using MAP@k metrics. Plots a large confusion matrix after all folds.\n",
    "    :param data: DataFrame containing the dataset.\n",
    "    :param target_col: Name of the target column (default: 'hotel_cluster').\n",
    "    :param features: List of feature column names. If None, all columns except the target are used.\n",
    "    :param k_values: List of k values for MAP@k evaluation (default: [5]).\n",
    "    :param n_splits: Number of folds for cross-validation (default: 5).\n",
    "    \"\"\"\n",
    "    # Step 1: Prepare features and target\n",
    "    if features is None:\n",
    "        features = [col for col in data.columns if col != target_col]\n",
    "    x = data[features]\n",
    "    y = data[target_col]\n",
    "\n",
    "    # Step 2: Initialize StratifiedKFold\n",
    "    skf = StratifiedKFold(n_splits=n_splits, shuffle=True, random_state=0)\n",
    "\n",
    "    # Step 3: Initialize variables to store results\n",
    "    overall_map_scores = {f\"MAP@{k}\": [] for k in k_values}\n",
    "    all_y_test = []\n",
    "    all_y_pred_top1 = []\n",
    "    fold = 1\n",
    "\n",
    "    for train_index, test_index in skf.split(x, y):\n",
    "        print(f\"Fold {fold}/{n_splits}\")\n",
    "        x_train, x_test = x.iloc[train_index], x.iloc[test_index]\n",
    "        y_train, y_test = y.iloc[train_index], y.iloc[test_index]\n",
    "\n",
    "        # Step 4: Initialize and train the XGBoost classifier\n",
    "        model = XGBClassifier(objective=\"multi:softprob\", num_class=len(np.unique(y)), eval_metric=\"mlogloss\",\n",
    "                              max_depth=8, random_state=0, n_jobs=-1)\n",
    "        model.fit(x_train, y_train)\n",
    "\n",
    "        # Step 5: Make predictions\n",
    "        y_proba = model.predict_proba(x_test)  # Probabilities for each class\n",
    "        y_pred = np.argsort(y_proba, axis=1)[:, ::-1]  # Sort predictions by probability (descending)\n",
    "\n",
    "        # Step 6: Calculate MAP@k for each k in k_values\n",
    "        fold_map_scores = {}\n",
    "        for k in k_values:\n",
    "            fold_map_scores[f\"MAP@{k}\"] = mapk(y_test.values, y_pred, k=k)\n",
    "            overall_map_scores[f\"MAP@{k}\"].append(fold_map_scores[f\"MAP@{k}\"])\n",
    "\n",
    "        # Print MAP@k scores for the current fold\n",
    "        for k, score in fold_map_scores.items():\n",
    "            print(f\"Fold {fold} {k}: {score:.4f}\")\n",
    "\n",
    "        # Collect true and predicted labels for the confusion matrix\n",
    "        all_y_test.extend(y_test.values)\n",
    "        all_y_pred_top1.extend(y_pred[:, 0])  # Top-1 predictions\n",
    "\n",
    "        fold += 1\n",
    "\n",
    "    # Step 7: Calculate and print average MAP@k scores across all folds\n",
    "    avg_map_scores = {k: np.mean(scores) for k, scores in overall_map_scores.items()}\n",
    "    print(\"\\nAverage MAP@k Scores Across All Folds:\")\n",
    "    for k, score in avg_map_scores.items():\n",
    "        print(f\"{k}: {score:.4f}\")\n",
    "\n",
    "    # Step 8: Plot the confusion matrix after all folds\n",
    "    cm = confusion_matrix(all_y_test, all_y_pred_top1)\n",
    "    plt.figure(figsize=(20, 16))  # Make the plot large to accommodate many clusters\n",
    "    sns.heatmap(cm, annot=False, fmt=\"d\", cmap=\"Blues\", cbar=True)\n",
    "    plt.title(\"Confusion Matrix (Aggregated Across All Folds)\", fontsize=20)\n",
    "    plt.xlabel(\"Predicted Labels\", fontsize=16)\n",
    "    plt.ylabel(\"True Labels\", fontsize=16)\n",
    "    plt.xticks(fontsize=12)\n",
    "    plt.yticks(fontsize=12)\n",
    "    plt.show()\n",
    "\n",
    "    return model, avg_map_scores"
   ]
  },
  {
   "cell_type": "code",
   "execution_count": 54,
   "metadata": {},
   "outputs": [],
   "source": [
    "features = [t for t in train_df.columns if t not in [\"date_time\", \"hotel_cluster\"]]"
   ]
  },
  {
   "cell_type": "code",
   "execution_count": 32,
   "metadata": {},
   "outputs": [
    {
     "data": {
      "text/plain": [
       "date_time                    datetime64[ns]\n",
       "site_name                           float64\n",
       "posa_continent                        int64\n",
       "user_location_country               float64\n",
       "user_location_region                  int64\n",
       "user_location_city                    int64\n",
       "orig_destination_distance           float64\n",
       "user_id                               int64\n",
       "is_mobile                             int64\n",
       "is_package                            int64\n",
       "channel                               int64\n",
       "srch_ci                      datetime64[ns]\n",
       "srch_co                      datetime64[ns]\n",
       "srch_adults_cnt                       int64\n",
       "srch_children_cnt                     int64\n",
       "srch_rm_cnt                           int64\n",
       "srch_destination_id                   int64\n",
       "srch_destination_type_id              int64\n",
       "is_booking                            int64\n",
       "cnt                                   int64\n",
       "hotel_continent                       int64\n",
       "hotel_country                       float64\n",
       "hotel_market                          int64\n",
       "hotel_cluster                         int64\n",
       "stay_dur                             object\n",
       "no_of_days_bet_booking               object\n",
       "Cin_day                             float64\n",
       "Cin_month                           float64\n",
       "Cin_year                            float64\n",
       "dtype: object"
      ]
     },
     "execution_count": 32,
     "metadata": {},
     "output_type": "execute_result"
    }
   ],
   "source": [
    "train_df.dtypes"
   ]
  },
  {
   "cell_type": "code",
   "execution_count": 37,
   "metadata": {},
   "outputs": [],
   "source": [
    "def preprocess_datetime_columns(data):\n",
    "    \"\"\"\n",
    "    Converts all datetime columns in the dataset to numeric (float or int) format.\n",
    "    :param data: DataFrame containing the dataset.\n",
    "    :return: DataFrame with datetime columns converted to numeric format.\n",
    "    \"\"\"\n",
    "    for col in data.columns:\n",
    "        if pd.api.types.is_datetime64_any_dtype(data[col]) or data[col].dtype == 'object':\n",
    "            try:\n",
    "                # Attempt to parse the column as datetime\n",
    "                data[col] = pd.to_datetime(data[col], errors='coerce')\n",
    "                # Convert datetime to numeric (e.g., Unix timestamp)\n",
    "                data[col] = data[col].map(lambda x: x.timestamp() if pd.notnull(x) else np.nan)\n",
    "            except Exception:\n",
    "                # If parsing fails, leave the column as is\n",
    "                pass\n",
    "    return data"
   ]
  },
  {
   "cell_type": "code",
   "execution_count": 43,
   "metadata": {},
   "outputs": [],
   "source": [
    "train_df = preprocess_datetime_columns(train_df)\n",
    "test_df = preprocess_datetime_columns(test_df)"
   ]
  },
  {
   "cell_type": "code",
   "execution_count": 39,
   "metadata": {},
   "outputs": [
    {
     "name": "stdout",
     "output_type": "stream",
     "text": [
      "Requirement already satisfied: plotly in /Users/ruhwang/Desktop/AI/spring2025_courses/.venv/lib/python3.12/site-packages (6.0.1)\n",
      "Requirement already satisfied: narwhals>=1.15.1 in /Users/ruhwang/Desktop/AI/spring2025_courses/.venv/lib/python3.12/site-packages (from plotly) (1.32.0)\n",
      "Requirement already satisfied: packaging in /Users/ruhwang/Desktop/AI/spring2025_courses/.venv/lib/python3.12/site-packages (from plotly) (24.2)\n"
     ]
    }
   ],
   "source": [
    "!pip install plotly"
   ]
  },
  {
   "cell_type": "code",
   "execution_count": 40,
   "metadata": {},
   "outputs": [],
   "source": [
    "import plotly.express as px"
   ]
  },
  {
   "cell_type": "code",
   "execution_count": null,
   "metadata": {},
   "outputs": [],
   "source": []
  },
  {
   "cell_type": "code",
   "execution_count": 61,
   "metadata": {},
   "outputs": [
    {
     "name": "stdout",
     "output_type": "stream",
     "text": [
      "Fold 1/5\n",
      "Fold 1 MAP@5: 0.4367\n",
      "Fold 2/5\n",
      "Fold 2 MAP@5: 0.4235\n",
      "Fold 3/5\n",
      "Fold 3 MAP@5: 0.4237\n",
      "Fold 4/5\n",
      "Fold 4 MAP@5: 0.4295\n",
      "Fold 5/5\n",
      "Fold 5 MAP@5: 0.4197\n",
      "\n",
      "Average MAP@k Scores Across All Folds:\n",
      "MAP@5: 0.4266\n"
     ]
    },
    {
     "data": {
      "image/png": "[encoded data removed]",
      "text/plain": [
       "<Figure size 2000x1600 with 2 Axes>"
      ]
     },
     "metadata": {},
     "output_type": "display_data"
    },
    {
     "ename": "ValueError",
     "evalue": "not enough values to unpack (expected 4, got 2)",
     "output_type": "error",
     "traceback": [
      "\u001b[0;31m---------------------------------------------------------------------------\u001b[0m",
      "\u001b[0;31mValueError\u001b[0m                                Traceback (most recent call last)",
      "Cell \u001b[0;32mIn[61], line 1\u001b[0m\n\u001b[0;32m----> 1\u001b[0m xgb, map_scores, y_pred, y_proba \u001b[38;5;241m=\u001b[39m xgboost_map_classification(train_df, target_col\u001b[38;5;241m=\u001b[39m\u001b[38;5;124m'\u001b[39m\u001b[38;5;124mhotel_cluster\u001b[39m\u001b[38;5;124m'\u001b[39m, features\u001b[38;5;241m=\u001b[39mfeatures, k_values\u001b[38;5;241m=\u001b[39m[\u001b[38;5;241m5\u001b[39m])\n",
      "\u001b[0;31mValueError\u001b[0m: not enough values to unpack (expected 4, got 2)"
     ]
    }
   ],
   "source": [
    "xgb, map_scores, y_pred, y_proba = xgboost_map_classification(train_df, target_col='hotel_cluster', features=features, k_values=[5])"
   ]
  },
  {
   "cell_type": "code",
   "execution_count": 62,
   "metadata": {},
   "outputs": [],
   "source": [
    "def xgb_plot_feature_importance(model):\n",
    "    \"\"\"\n",
    "    Plots the feature importance of an XGBoost model.\n",
    "    :param model: Trained XGBoost model.\n",
    "    :return: DataFrame of feature importances and a Plotly bar chart.\n",
    "    \"\"\"\n",
    "    # Get feature names and importances\n",
    "    feature_names = model.get_booster().feature_names  # Get feature names from the model\n",
    "    feature_importances = model.feature_importances_  # Get feature importances\n",
    "\n",
    "    # Create a DataFrame for feature importances\n",
    "    feature_importance_df = pd.DataFrame({\n",
    "        'feature': feature_names,\n",
    "        'importance': feature_importances\n",
    "    })\n",
    "\n",
    "    # Sort by importance\n",
    "    feature_importance_df = feature_importance_df.sort_values(by=\"importance\", ascending=False)\n",
    "\n",
    "    # Plot feature importances using Plotly\n",
    "    fig = px.bar(feature_importance_df, y=\"importance\", x=\"feature\", title=\"Feature Importance\",\n",
    "                 labels={\"importance\": \"Importance\", \"feature\": \"Feature\"}, text=\"importance\")\n",
    "    fig.update_traces(texttemplate='%{text:.2f}', textposition='outside')\n",
    "    fig.update_layout(xaxis_tickangle=-45)\n",
    "\n",
    "    # Show the plot\n",
    "    fig.show()\n",
    "\n",
    "    return feature_importance_df"
   ]
  },
  {
   "cell_type": "code",
   "execution_count": 63,
   "metadata": {},
   "outputs": [
    {
     "data": {
      "application/vnd.plotly.v1+json": {
       "config": {
        "plotlyServerURL": "https://plot.ly"
       },
       "data": [
        {
         "hovertemplate": "Feature=%{x}<br>Importance=%{text}<extra></extra>",
         "legendgroup": "",
         "marker": {
          "color": "#636efa",
          "pattern": {
           "shape": ""
          }
         },
         "name": "",
         "orientation": "v",
         "showlegend": false,
         "text": {
          "bdata": "AAAAYEPi0T8AAACgMNe4PwAAAGCc87I/AAAAgH5hrj8AAAAgDNerPwAAACCxZqs/AAAAQNphqz8AAACg3oyoPwAAAGB0R6g/AAAAwFeypD8AAAAg+jykPwAAAMBWL6M/AAAAADZqoD8AAADANfOfPwAAAKDua5o/AAAAwM9dlz8AAADASNxwPwAAAAAAAAAAAAAAAAAAAAAAAAAAAAAAAAAAAAAAAAAAAAAAAAAAAAAAAAAAAAAAAAAAAAAAAAAAAAAAAAAAAAAAAAAAAAAAAAAAAAAAAAAA",
          "dtype": "f8"
         },
         "textposition": "outside",
         "texttemplate": "%{text:.2f}",
         "type": "bar",
         "x": [
          "hotel_continent",
          "hotel_country",
          "hotel_market",
          "user_id",
          "site_name",
          "Cin_month",
          "user_location_region",
          "user_location_country",
          "srch_destination_id",
          "srch_ci",
          "user_location_city",
          "srch_destination_type_id",
          "orig_destination_distance",
          "Cin_day",
          "srch_co",
          "channel",
          "stay_dur",
          "no_of_days_bet_booking",
          "srch_children_cnt",
          "cnt",
          "is_booking",
          "srch_rm_cnt",
          "posa_continent",
          "srch_adults_cnt",
          "is_package",
          "is_mobile",
          "Cin_year"
         ],
         "xaxis": "x",
         "y": {
          "bdata": "GxKPPoW5xj3jnJc99AtzPWG4Xj2JNVs90g5bPfVmRD2jO0I9vpIlPdHnIT22ehk9sFEDPa6Z/zx1X9M8fu66PEbihjsAAAAAAAAAAAAAAAAAAAAAAAAAAAAAAAAAAAAAAAAAAAAAAAAAAAAA",
          "dtype": "f4"
         },
         "yaxis": "y"
        }
       ],
       "layout": {
        "barmode": "relative",
        "legend": {
         "tracegroupgap": 0
        },
        "template": {
         "data": {
          "bar": [
           {
            "error_x": {
             "color": "#2a3f5f"
            },
            "error_y": {
             "color": "#2a3f5f"
            },
            "marker": {
             "line": {
              "color": "#E5ECF6",
              "width": 0.5
             },
             "pattern": {
              "fillmode": "overlay",
              "size": 10,
              "solidity": 0.2
             }
            },
            "type": "bar"
           }
          ],
          "barpolar": [
           {
            "marker": {
             "line": {
              "color": "#E5ECF6",
              "width": 0.5
             },
             "pattern": {
              "fillmode": "overlay",
              "size": 10,
              "solidity": 0.2
             }
            },
            "type": "barpolar"
           }
          ],
          "carpet": [
           {
            "aaxis": {
             "endlinecolor": "#2a3f5f",
             "gridcolor": "white",
             "linecolor": "white",
             "minorgridcolor": "white",
             "startlinecolor": "#2a3f5f"
            },
            "baxis": {
             "endlinecolor": "#2a3f5f",
             "gridcolor": "white",
             "linecolor": "white",
             "minorgridcolor": "white",
             "startlinecolor": "#2a3f5f"
            },
            "type": "carpet"
           }
          ],
          "choropleth": [
           {
            "colorbar": {
             "outlinewidth": 0,
             "ticks": ""
            },
            "type": "choropleth"
           }
          ],
          "contour": [
           {
            "colorbar": {
             "outlinewidth": 0,
             "ticks": ""
            },
            "colorscale": [
             [
              0,
              "#0d0887"
             ],
             [
              0.1111111111111111,
              "#46039f"
             ],
             [
              0.2222222222222222,
              "#7201a8"
             ],
             [
              0.3333333333333333,
              "#9c179e"
             ],
             [
              0.4444444444444444,
              "#bd3786"
             ],
             [
              0.5555555555555556,
              "#d8576b"
             ],
             [
              0.6666666666666666,
              "#ed7953"
             ],
             [
              0.7777777777777778,
              "#fb9f3a"
             ],
             [
              0.8888888888888888,
              "#fdca26"
             ],
             [
              1,
              "#f0f921"
             ]
            ],
            "type": "contour"
           }
          ],
          "contourcarpet": [
           {
            "colorbar": {
             "outlinewidth": 0,
             "ticks": ""
            },
            "type": "contourcarpet"
           }
          ],
          "heatmap": [
           {
            "colorbar": {
             "outlinewidth": 0,
             "ticks": ""
            },
            "colorscale": [
             [
              0,
              "#0d0887"
             ],
             [
              0.1111111111111111,
              "#46039f"
             ],
             [
              0.2222222222222222,
              "#7201a8"
             ],
             [
              0.3333333333333333,
              "#9c179e"
             ],
             [
              0.4444444444444444,
              "#bd3786"
             ],
             [
              0.5555555555555556,
              "#d8576b"
             ],
             [
              0.6666666666666666,
              "#ed7953"
             ],
             [
              0.7777777777777778,
              "#fb9f3a"
             ],
             [
              0.8888888888888888,
              "#fdca26"
             ],
             [
              1,
              "#f0f921"
             ]
            ],
            "type": "heatmap"
           }
          ],
          "histogram": [
           {
            "marker": {
             "pattern": {
              "fillmode": "overlay",
              "size": 10,
              "solidity": 0.2
             }
            },
            "type": "histogram"
           }
          ],
          "histogram2d": [
           {
            "colorbar": {
             "outlinewidth": 0,
             "ticks": ""
            },
            "colorscale": [
             [
              0,
              "#0d0887"
             ],
             [
              0.1111111111111111,
              "#46039f"
             ],
             [
              0.2222222222222222,
              "#7201a8"
             ],
             [
              0.3333333333333333,
              "#9c179e"
             ],
             [
              0.4444444444444444,
              "#bd3786"
             ],
             [
              0.5555555555555556,
              "#d8576b"
             ],
             [
              0.6666666666666666,
              "#ed7953"
             ],
             [
              0.7777777777777778,
              "#fb9f3a"
             ],
             [
              0.8888888888888888,
              "#fdca26"
             ],
             [
              1,
              "#f0f921"
             ]
            ],
            "type": "histogram2d"
           }
          ],
          "histogram2dcontour": [
           {
            "colorbar": {
             "outlinewidth": 0,
             "ticks": ""
            },
            "colorscale": [
             [
              0,
              "#0d0887"
             ],
             [
              0.1111111111111111,
              "#46039f"
             ],
             [
              0.2222222222222222,
              "#7201a8"
             ],
             [
              0.3333333333333333,
              "#9c179e"
             ],
             [
              0.4444444444444444,
              "#bd3786"
             ],
             [
              0.5555555555555556,
              "#d8576b"
             ],
             [
              0.6666666666666666,
              "#ed7953"
             ],
             [
              0.7777777777777778,
              "#fb9f3a"
             ],
             [
              0.8888888888888888,
              "#fdca26"
             ],
             [
              1,
              "#f0f921"
             ]
            ],
            "type": "histogram2dcontour"
           }
          ],
          "mesh3d": [
           {
            "colorbar": {
             "outlinewidth": 0,
             "ticks": ""
            },
            "type": "mesh3d"
           }
          ],
          "parcoords": [
           {
            "line": {
             "colorbar": {
              "outlinewidth": 0,
              "ticks": ""
             }
            },
            "type": "parcoords"
           }
          ],
          "pie": [
           {
            "automargin": true,
            "type": "pie"
           }
          ],
          "scatter": [
           {
            "fillpattern": {
             "fillmode": "overlay",
             "size": 10,
             "solidity": 0.2
            },
            "type": "scatter"
           }
          ],
          "scatter3d": [
           {
            "line": {
             "colorbar": {
              "outlinewidth": 0,
              "ticks": ""
             }
            },
            "marker": {
             "colorbar": {
              "outlinewidth": 0,
              "ticks": ""
             }
            },
            "type": "scatter3d"
           }
          ],
          "scattercarpet": [
           {
            "marker": {
             "colorbar": {
              "outlinewidth": 0,
              "ticks": ""
             }
            },
            "type": "scattercarpet"
           }
          ],
          "scattergeo": [
           {
            "marker": {
             "colorbar": {
              "outlinewidth": 0,
              "ticks": ""
             }
            },
            "type": "scattergeo"
           }
          ],
          "scattergl": [
           {
            "marker": {
             "colorbar": {
              "outlinewidth": 0,
              "ticks": ""
             }
            },
            "type": "scattergl"
           }
          ],
          "scattermap": [
           {
            "marker": {
             "colorbar": {
              "outlinewidth": 0,
              "ticks": ""
             }
            },
            "type": "scattermap"
           }
          ],
          "scattermapbox": [
           {
            "marker": {
             "colorbar": {
              "outlinewidth": 0,
              "ticks": ""
             }
            },
            "type": "scattermapbox"
           }
          ],
          "scatterpolar": [
           {
            "marker": {
             "colorbar": {
              "outlinewidth": 0,
              "ticks": ""
             }
            },
            "type": "scatterpolar"
           }
          ],
          "scatterpolargl": [
           {
            "marker": {
             "colorbar": {
              "outlinewidth": 0,
              "ticks": ""
             }
            },
            "type": "scatterpolargl"
           }
          ],
          "scatterternary": [
           {
            "marker": {
             "colorbar": {
              "outlinewidth": 0,
              "ticks": ""
             }
            },
            "type": "scatterternary"
           }
          ],
          "surface": [
           {
            "colorbar": {
             "outlinewidth": 0,
             "ticks": ""
            },
            "colorscale": [
             [
              0,
              "#0d0887"
             ],
             [
              0.1111111111111111,
              "#46039f"
             ],
             [
              0.2222222222222222,
              "#7201a8"
             ],
             [
              0.3333333333333333,
              "#9c179e"
             ],
             [
              0.4444444444444444,
              "#bd3786"
             ],
             [
              0.5555555555555556,
              "#d8576b"
             ],
             [
              0.6666666666666666,
              "#ed7953"
             ],
             [
              0.7777777777777778,
              "#fb9f3a"
             ],
             [
              0.8888888888888888,
              "#fdca26"
             ],
             [
              1,
              "#f0f921"
             ]
            ],
            "type": "surface"
           }
          ],
          "table": [
           {
            "cells": {
             "fill": {
              "color": "#EBF0F8"
             },
             "line": {
              "color": "white"
             }
            },
            "header": {
             "fill": {
              "color": "#C8D4E3"
             },
             "line": {
              "color": "white"
             }
            },
            "type": "table"
           }
          ]
         },
         "layout": {
          "annotationdefaults": {
           "arrowcolor": "#2a3f5f",
           "arrowhead": 0,
           "arrowwidth": 1
          },
          "autotypenumbers": "strict",
          "coloraxis": {
           "colorbar": {
            "outlinewidth": 0,
            "ticks": ""
           }
          },
          "colorscale": {
           "diverging": [
            [
             0,
             "#8e0152"
            ],
            [
             0.1,
             "#c51b7d"
            ],
            [
             0.2,
             "#de77ae"
            ],
            [
             0.3,
             "#f1b6da"
            ],
            [
             0.4,
             "#fde0ef"
            ],
            [
             0.5,
             "#f7f7f7"
            ],
            [
             0.6,
             "#e6f5d0"
            ],
            [
             0.7,
             "#b8e186"
            ],
            [
             0.8,
             "#7fbc41"
            ],
            [
             0.9,
             "#4d9221"
            ],
            [
             1,
             "#276419"
            ]
           ],
           "sequential": [
            [
             0,
             "#0d0887"
            ],
            [
             0.1111111111111111,
             "#46039f"
            ],
            [
             0.2222222222222222,
             "#7201a8"
            ],
            [
             0.3333333333333333,
             "#9c179e"
            ],
            [
             0.4444444444444444,
             "#bd3786"
            ],
            [
             0.5555555555555556,
             "#d8576b"
            ],
            [
             0.6666666666666666,
             "#ed7953"
            ],
            [
             0.7777777777777778,
             "#fb9f3a"
            ],
            [
             0.8888888888888888,
             "#fdca26"
            ],
            [
             1,
             "#f0f921"
            ]
           ],
           "sequentialminus": [
            [
             0,
             "#0d0887"
            ],
            [
             0.1111111111111111,
             "#46039f"
            ],
            [
             0.2222222222222222,
             "#7201a8"
            ],
            [
             0.3333333333333333,
             "#9c179e"
            ],
            [
             0.4444444444444444,
             "#bd3786"
            ],
            [
             0.5555555555555556,
             "#d8576b"
            ],
            [
             0.6666666666666666,
             "#ed7953"
            ],
            [
             0.7777777777777778,
             "#fb9f3a"
            ],
            [
             0.8888888888888888,
             "#fdca26"
            ],
            [
             1,
             "#f0f921"
            ]
           ]
          },
          "colorway": [
           "#636efa",
           "#EF553B",
           "#00cc96",
           "#ab63fa",
           "#FFA15A",
           "#19d3f3",
           "#FF6692",
           "#B6E880",
           "#FF97FF",
           "#FECB52"
          ],
          "font": {
           "color": "#2a3f5f"
          },
          "geo": {
           "bgcolor": "white",
           "lakecolor": "white",
           "landcolor": "#E5ECF6",
           "showlakes": true,
           "showland": true,
           "subunitcolor": "white"
          },
          "hoverlabel": {
           "align": "left"
          },
          "hovermode": "closest",
          "mapbox": {
           "style": "light"
          },
          "paper_bgcolor": "white",
          "plot_bgcolor": "#E5ECF6",
          "polar": {
           "angularaxis": {
            "gridcolor": "white",
            "linecolor": "white",
            "ticks": ""
           },
           "bgcolor": "#E5ECF6",
           "radialaxis": {
            "gridcolor": "white",
            "linecolor": "white",
            "ticks": ""
           }
          },
          "scene": {
           "xaxis": {
            "backgroundcolor": "#E5ECF6",
            "gridcolor": "white",
            "gridwidth": 2,
            "linecolor": "white",
            "showbackground": true,
            "ticks": "",
            "zerolinecolor": "white"
           },
           "yaxis": {
            "backgroundcolor": "#E5ECF6",
            "gridcolor": "white",
            "gridwidth": 2,
            "linecolor": "white",
            "showbackground": true,
            "ticks": "",
            "zerolinecolor": "white"
           },
           "zaxis": {
            "backgroundcolor": "#E5ECF6",
            "gridcolor": "white",
            "gridwidth": 2,
            "linecolor": "white",
            "showbackground": true,
            "ticks": "",
            "zerolinecolor": "white"
           }
          },
          "shapedefaults": {
           "line": {
            "color": "#2a3f5f"
           }
          },
          "ternary": {
           "aaxis": {
            "gridcolor": "white",
            "linecolor": "white",
            "ticks": ""
           },
           "baxis": {
            "gridcolor": "white",
            "linecolor": "white",
            "ticks": ""
           },
           "bgcolor": "#E5ECF6",
           "caxis": {
            "gridcolor": "white",
            "linecolor": "white",
            "ticks": ""
           }
          },
          "title": {
           "x": 0.05
          },
          "xaxis": {
           "automargin": true,
           "gridcolor": "white",
           "linecolor": "white",
           "ticks": "",
           "title": {
            "standoff": 15
           },
           "zerolinecolor": "white",
           "zerolinewidth": 2
          },
          "yaxis": {
           "automargin": true,
           "gridcolor": "white",
           "linecolor": "white",
           "ticks": "",
           "title": {
            "standoff": 15
           },
           "zerolinecolor": "white",
           "zerolinewidth": 2
          }
         }
        },
        "title": {
         "text": "Feature Importance"
        },
        "xaxis": {
         "anchor": "y",
         "domain": [
          0,
          1
         ],
         "tickangle": -45,
         "title": {
          "text": "Feature"
         }
        },
        "yaxis": {
         "anchor": "x",
         "domain": [
          0,
          1
         ],
         "title": {
          "text": "Importance"
         }
        }
       }
      }
     },
     "metadata": {},
     "output_type": "display_data"
    }
   ],
   "source": [
    "feature_importance_df = xgb_plot_feature_importance(xgb)"
   ]
  },
  {
   "cell_type": "code",
   "execution_count": 64,
   "metadata": {},
   "outputs": [
    {
     "data": {
      "text/plain": [
       "Index(['feature', 'importance'], dtype='object')"
      ]
     },
     "execution_count": 64,
     "metadata": {},
     "output_type": "execute_result"
    }
   ],
   "source": [
    "feature_importance_df.columns"
   ]
  },
  {
   "cell_type": "code",
   "execution_count": 68,
   "metadata": {},
   "outputs": [
    {
     "data": {
      "text/plain": [
       "['hotel_continent',\n",
       " 'hotel_country',\n",
       " 'hotel_market',\n",
       " 'user_id',\n",
       " 'site_name',\n",
       " 'Cin_month',\n",
       " 'user_location_region',\n",
       " 'user_location_country',\n",
       " 'srch_destination_id',\n",
       " 'srch_ci']"
      ]
     },
     "execution_count": 68,
     "metadata": {},
     "output_type": "execute_result"
    }
   ],
   "source": [
    "feature_importance_df[\"feature\"][:10].to_list()"
   ]
  },
  {
   "cell_type": "code",
   "execution_count": null,
   "metadata": {},
   "outputs": [],
   "source": []
  },
  {
   "cell_type": "code",
   "execution_count": null,
   "metadata": {},
   "outputs": [],
   "source": []
  },
  {
   "cell_type": "code",
   "execution_count": null,
   "metadata": {},
   "outputs": [],
   "source": []
  },
  {
   "cell_type": "code",
   "execution_count": null,
   "metadata": {},
   "outputs": [],
   "source": []
  },
  {
   "cell_type": "code",
   "execution_count": null,
   "metadata": {},
   "outputs": [],
   "source": []
  }
 ],
 "metadata": {
  "kernelspec": {
   "display_name": ".venv",
   "language": "python",
   "name": "python3"
  },
  "language_info": {
   "codemirror_mode": {
    "name": "ipython",
    "version": 3
   },
   "file_extension": ".py",
   "mimetype": "text/x-python",
   "name": "python",
   "nbconvert_exporter": "python",
   "pygments_lexer": "ipython3",
   "version": "3.12.9"
  }
 },
 "nbformat": 4,
 "nbformat_minor": 2
}
